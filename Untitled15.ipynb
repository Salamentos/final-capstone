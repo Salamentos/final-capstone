{
 "cells": [
  {
   "cell_type": "code",
   "execution_count": 1,
   "id": "9938e245-449b-4fcf-b8e6-28bdaab6640a",
   "metadata": {},
   "outputs": [],
   "source": [
    "import pandas as pd\n",
    "import numpy as np\n",
    "import matplotlib.pyplot as plt\n",
    "import seaborn as sns\n",
    "from scipy.stats import pearsonr\n",
    "import statsmodels.api as sm"
   ]
  },
  {
   "cell_type": "code",
   "execution_count": 3,
   "id": "d955c0b0-d36e-4e26-a2d4-95b6fdba56ac",
   "metadata": {},
   "outputs": [],
   "source": [
    "np.random.seed(0)"
   ]
  },
  {
   "cell_type": "code",
   "execution_count": 5,
   "id": "3892ba93-d153-413f-be29-cc40e579ac01",
   "metadata": {},
   "outputs": [],
   "source": [
    "brands = [\"Alienware\", \"Asus ROG\", \"MSI\", \"Acer Predator\", \"HP Omen\", \"Razer\", \"Lenovo Legion\"]\n",
    "n = 130"
   ]
  },
  {
   "cell_type": "code",
   "execution_count": 7,
   "id": "651a4067-96ba-4ebb-b227-6617e388ef1f",
   "metadata": {},
   "outputs": [],
   "source": [
    "df = pd.DataFrame({\n",
    "    \"Brand\": np.random.choice(brands, size=n),\n",
    "    \"Price_USD\": np.random.normal(1600, 400, size=n).round(2),\n",
    "    \"GPU_Score\": np.random.normal(85, 10, size=n).round(2),\n",
    "    \"CPU_Score\": np.random.normal(80, 12, size=n).round(2),\n",
    "    \"Cooling_Score\": np.random.normal(75, 15, size=n).round(2),\n",
    "    \"Battery_Life_Hrs\": np.random.normal(6, 1.5, size=n).round(2),\n",
    "    \"RGB_Features\": np.random.choice([0, 1], size=n),\n",
    "    \"Build_Quality_Score\": np.random.normal(8, 1, size=n).round(2),\n",
    "    \"User_Rating\": np.random.normal(8.2, 0.8, size=n).round(2)\n",
    "})"
   ]
  },
  {
   "cell_type": "code",
   "execution_count": 9,
   "id": "b63d7d01-1055-42fe-b6ec-2a0878f6afc2",
   "metadata": {},
   "outputs": [],
   "source": [
    "nan_indices = np.random.choice(df.index, 20, replace=False)\n",
    "for col in [\"Battery_Life_Hrs\", \"User_Rating\", \"Build_Quality_Score\"]:\n",
    "    df.loc[nan_indices[:5], col] = np.nan\n",
    "    nan_indices = nan_indices[5:]\n"
   ]
  },
  {
   "cell_type": "code",
   "execution_count": 11,
   "id": "bf62c93e-81d6-4dac-8355-71d257bf8c54",
   "metadata": {},
   "outputs": [],
   "source": [
    "df.to_excel(\"laptop_gaming_dataset.xlsx\", index=False)"
   ]
  },
  {
   "cell_type": "code",
   "execution_count": 13,
   "id": "af2b2ef5-98d2-47e6-915d-70a82aab4596",
   "metadata": {},
   "outputs": [],
   "source": [
    "df_clean = df.dropna()"
   ]
  },
  {
   "cell_type": "code",
   "execution_count": 15,
   "id": "8e55dc92-4254-455e-a291-06cd8ec9f64c",
   "metadata": {},
   "outputs": [
    {
     "name": "stdout",
     "output_type": "stream",
     "text": [
      "Number of clean data points: 115\n"
     ]
    }
   ],
   "source": [
    "print(\"Number of clean data points:\", len(df_clean))"
   ]
  },
  {
   "cell_type": "code",
   "execution_count": 17,
   "id": "4d81812a-6aac-457d-86d0-0f8db8813c2b",
   "metadata": {},
   "outputs": [
    {
     "name": "stdout",
     "output_type": "stream",
     "text": [
      "\n",
      "NumPy Operations:\n",
      "Mean Price:  1609.2879130434783\n",
      "Std Dev GPU Score:  9.812491281491075\n",
      "Max CPU Score:  105.01\n",
      "Min Battery Life:  1.66\n",
      "Median User Rating:  8.36\n"
     ]
    }
   ],
   "source": [
    "print(\"\\nNumPy Operations:\")\n",
    "print(\"Mean Price: \", np.mean(df_clean[\"Price_USD\"]))\n",
    "print(\"Std Dev GPU Score: \", np.std(df_clean[\"GPU_Score\"]))\n",
    "print(\"Max CPU Score: \", np.max(df_clean[\"CPU_Score\"]))\n",
    "print(\"Min Battery Life: \", np.min(df_clean[\"Battery_Life_Hrs\"]))\n",
    "print(\"Median User Rating: \", np.median(df_clean[\"User_Rating\"]))"
   ]
  },
  {
   "cell_type": "code",
   "execution_count": 19,
   "id": "4eb51bdb-cfaa-451d-b250-011f79a91bbf",
   "metadata": {},
   "outputs": [
    {
     "name": "stdout",
     "output_type": "stream",
     "text": [
      "\n",
      "Correlation (GPU vs Build Quality):\n",
      "Correlation Coefficient: 0.017632879423177976\n",
      "P-Value: 0.8516289545832215\n"
     ]
    }
   ],
   "source": [
    "corr, p_value = pearsonr(df_clean[\"GPU_Score\"], df_clean[\"Build_Quality_Score\"])\n",
    "print(\"\\nCorrelation (GPU vs Build Quality):\")\n",
    "print(\"Correlation Coefficient:\", corr)\n",
    "print(\"P-Value:\", p_value)"
   ]
  },
  {
   "cell_type": "code",
   "execution_count": null,
   "id": "744efef3-4738-40c7-8c8f-b28d3b7ebc1a",
   "metadata": {},
   "outputs": [],
   "source": []
  }
 ],
 "metadata": {
  "kernelspec": {
   "display_name": "Python [conda env:base] *",
   "language": "python",
   "name": "conda-base-py"
  },
  "language_info": {
   "codemirror_mode": {
    "name": "ipython",
    "version": 3
   },
   "file_extension": ".py",
   "mimetype": "text/x-python",
   "name": "python",
   "nbconvert_exporter": "python",
   "pygments_lexer": "ipython3",
   "version": "3.12.7"
  }
 },
 "nbformat": 4,
 "nbformat_minor": 5
}
